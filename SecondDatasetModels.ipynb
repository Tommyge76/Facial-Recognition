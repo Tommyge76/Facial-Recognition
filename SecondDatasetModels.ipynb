{
  "nbformat": 4,
  "nbformat_minor": 0,
  "metadata": {
    "colab": {
      "name": "SecondDatasetModels.ipynb",
      "provenance": [],
      "collapsed_sections": []
    },
    "kernelspec": {
      "name": "python3",
      "display_name": "Python 3"
    },
    "language_info": {
      "name": "python"
    }
  },
  "cells": [
    {
      "cell_type": "code",
      "metadata": {
        "id": "aL3qW6hR8PIM"
      },
      "source": [
        "import numpy as np\n",
        "import cv2\n",
        "import os\n",
        "import pandas as pd\n",
        "import tensorflow as tf\n",
        "import random\n",
        "import copy\n",
        "import matplotlib.pyplot as plt\n",
        "from tensorflow.keras import models\n",
        "from tensorflow.keras import layers\n",
        "from tensorflow.keras import optimizers\n",
        "from google.colab import drive\n",
        "\n",
        "drive.mount('/content/drive/')\n",
        "\n",
        "## Folder path for the UTK image dataset\n",
        "\n",
        "folder_path = '/content/drive/MyDrive/data/crop_part1/crop_part1/'\n",
        "\n",
        "## Paths for the npy files created for ease(change to wherever your .npy files\n",
        "## are stored)\n",
        "\n",
        "images_path = '/content/drive/MyDrive/data/images.npy'\n",
        "\n",
        "ages_path = '/content/drive/MyDrive/data/ages.npy'\n",
        "\n",
        "genders_path = '/content/drive/MyDrive/data/genders.npy'\n",
        "\n",
        "races_path = '/content/drive/MyDrive/data/races.npy'\n",
        "\n",
        "dates_path = '/content/drive/MyDrive/data/dates.npy'\n",
        "\n",
        "def load_images_from_folder(folder):\n",
        "    images = []\n",
        "    ages = []\n",
        "    genders = []\n",
        "    races = []\n",
        "    dates = []\n",
        "    for filename in os.listdir(folder):\n",
        "        print(filename)\n",
        "        img = cv2.imread(os.path.join(folder,filename))\n",
        "        if img is not None:\n",
        "          if (len(filename.split('_')) == 4):\n",
        "            age, gender, race, date = filename_data(filename)\n",
        "            images.append(img)\n",
        "            ages.append(age)\n",
        "            genders.append(gender)\n",
        "            races.append(race)\n",
        "            dates.append(date)\n",
        "    return images, ages, genders, races, dates\n",
        "\n",
        "\n",
        "def filename_data(filename):\n",
        "  img_name = filename\n",
        "  data = img_name.split('_')\n",
        "  age = data[0]\n",
        "  gender = data[1]\n",
        "  race = data[2]\n",
        "  data2 = data[3]\n",
        "  date = data2.split('.')[0]\n",
        "  return age, gender, race, date\n",
        "def get_accuracy(predicted, actual):\n",
        "  n = len(predicted)\n",
        "  tot = 0\n",
        "  for i in range(n):\n",
        "    if predicted[i] == actual[i]:\n",
        "      tot = tot + 1\n",
        "  return tot/n"
      ],
      "execution_count": null,
      "outputs": []
    },
    {
      "cell_type": "code",
      "metadata": {
        "id": "Sqo2-9g6QDaH"
      },
      "source": [
        "## This is just to save the data for later so loading isn't required every time\n",
        "## Don't run if you already have the data in the .npy files\n",
        "images, ages, genders, races, dates = load_images_from_folder(folder_path)\n",
        "np.save('images.npy', images)\n",
        "np.save('ages.npy', ages)\n",
        "np.save('genders.npy', genders)\n",
        "np.save('races.npy', races)\n",
        "np.save('dates.npy', dates)"
      ],
      "execution_count": null,
      "outputs": []
    },
    {
      "cell_type": "code",
      "metadata": {
        "id": "kozTFhIgIj5u",
        "colab": {
          "base_uri": "https://localhost:8080/"
        },
        "outputId": "9f2da8e0-bc7f-4bd7-c7a6-6967065da281"
      },
      "source": [
        "## Loading\n",
        "images = np.load(images_path)\n",
        "ages = np.load(ages_path)\n",
        "genders = np.load(genders_path)\n",
        "races = np.load(races_path)\n",
        "dates = np.load(dates_path)"
      ],
      "execution_count": null,
      "outputs": [
        {
          "output_type": "execute_result",
          "data": {
            "text/plain": [
              "('0', '1', '0', '20170110183726390')"
            ]
          },
          "metadata": {
            "tags": []
          },
          "execution_count": 110
        }
      ]
    },
    {
      "cell_type": "code",
      "metadata": {
        "id": "b5vAwie48gr-",
        "colab": {
          "base_uri": "https://localhost:8080/",
          "height": 235
        },
        "outputId": "ae1a2bb4-c294-44db-baeb-fba8af68d33b"
      },
      "source": [
        "## gender: 0=male, 1=female\n",
        "## race: 0=white, 1=black, 2=asian, 3=indian\n",
        "\n",
        "genders = genders.astype(np.uint8)\n",
        "images.shape\n",
        "df = pd.DataFrame({\n",
        "    'Age': ages,\n",
        "    'Gender': genders,\n",
        "    'Race': races,\n",
        "    'Date': dates\n",
        "})\n",
        "white = df.Race == '0'\n",
        "black = df.Race == '1'\n",
        "asian = df.Race == '2'\n",
        "indian = df.Race == '3'\n",
        "\n",
        "white_images = images[white]\n",
        "white_genders = genders[white]\n",
        "black_images = images[black]\n",
        "black_genders = genders[black]\n",
        "asian_images = images[asian]\n",
        "asian_genders = genders[asian]\n",
        "indian_images = images[indian]\n",
        "indian_genders = genders[indian]\n",
        "\n",
        "n_white = len(white_genders)\n",
        "n_black = len(black_genders)\n",
        "n_asian = len(asian_genders)\n",
        "n_indian = len(indian_genders)\n",
        "n = min(n_white,n_black,n_asian,n_indian)\n",
        "random.seed(100)\n",
        "white_idx = random.sample(range(n_white), n)\n",
        "asian_idx = random.sample(range(n_asian), n)\n",
        "indian_idx = random.sample(range(n_indian), n)\n",
        "\n",
        "white_images_2 = white_images[white_idx]\n",
        "white_genders_2 = white_genders[white_idx]\n",
        "asian_images_2 = asian_images[asian_idx]\n",
        "asain_genders_2 = asian_genders[asian_idx]\n",
        "indian_images_2 = indian_images[indian_idx]\n",
        "indian_genders_2 = indian_genders[indian_idx]"
      ],
      "execution_count": null,
      "outputs": [
        {
          "output_type": "error",
          "ename": "NameError",
          "evalue": "ignored",
          "traceback": [
            "\u001b[0;31m---------------------------------------------------------------------------\u001b[0m",
            "\u001b[0;31mNameError\u001b[0m                                 Traceback (most recent call last)",
            "\u001b[0;32m<ipython-input-1-d521bab1b2d9>\u001b[0m in \u001b[0;36m<module>\u001b[0;34m()\u001b[0m\n\u001b[1;32m      2\u001b[0m \u001b[0;31m## race: 0=white, 1=black, 2=asian, 3=indian\u001b[0m\u001b[0;34m\u001b[0m\u001b[0;34m\u001b[0m\u001b[0;34m\u001b[0m\u001b[0m\n\u001b[1;32m      3\u001b[0m \u001b[0;34m\u001b[0m\u001b[0m\n\u001b[0;32m----> 4\u001b[0;31m \u001b[0mgenders\u001b[0m \u001b[0;34m=\u001b[0m \u001b[0mgenders\u001b[0m\u001b[0;34m.\u001b[0m\u001b[0mastype\u001b[0m\u001b[0;34m(\u001b[0m\u001b[0mnp\u001b[0m\u001b[0;34m.\u001b[0m\u001b[0muint8\u001b[0m\u001b[0;34m)\u001b[0m\u001b[0;34m\u001b[0m\u001b[0;34m\u001b[0m\u001b[0m\n\u001b[0m\u001b[1;32m      5\u001b[0m \u001b[0mimages\u001b[0m\u001b[0;34m.\u001b[0m\u001b[0mshape\u001b[0m\u001b[0;34m\u001b[0m\u001b[0;34m\u001b[0m\u001b[0m\n\u001b[1;32m      6\u001b[0m df = pd.DataFrame({\n",
            "\u001b[0;31mNameError\u001b[0m: name 'genders' is not defined"
          ]
        }
      ]
    },
    {
      "cell_type": "markdown",
      "metadata": {
        "id": "uhFLa6mNE-f1"
      },
      "source": [
        "**MODEL**"
      ]
    },
    {
      "cell_type": "code",
      "metadata": {
        "id": "grQExmMw8kN7"
      },
      "source": [
        "## This is the model I made(also I'm not even sure if it's right but I tried)\n",
        "def createModel():\n",
        "  model = tf.keras.models.Sequential()\n",
        "\n",
        "  model.add(\n",
        "    layers.Conv2D(64, (5,5),\n",
        "                  activation = 'relu',\n",
        "                  input_shape = (200,200,3))\n",
        "  )\n",
        "  model.add(\n",
        "    layers.MaxPooling2D((2,2))\n",
        "  )\n",
        "  model.add(\n",
        "    layers.Conv2D(128, (3,3),\n",
        "                  activation = 'relu')\n",
        "  )\n",
        "  model.add(\n",
        "    layers.MaxPooling2D((2,2))\n",
        "  )\n",
        "  model.add(\n",
        "    layers.Flatten()\n",
        "  )\n",
        "  model.add(\n",
        "    layers.Dense(128, activation = 'relu')\n",
        "  )\n",
        "  model.add(\n",
        "      layers.Dropout(.5)\n",
        "  )\n",
        "  model.add(\n",
        "      layers.Dense(128, activation = 'relu')\n",
        "  )\n",
        "## Sigmoid for binary classification\n",
        "  model.add(\n",
        "    layers.Dense(1, activation = 'sigmoid')\n",
        "  )\n",
        "## Might need to change learning rate later\n",
        "  model.compile(\n",
        "  optimizer = optimizers.SGD(learning_rate=1e-6),\n",
        "  loss = 'binary_crossentropy',\n",
        "  metrics = ['accuracy']\n",
        "  )\n",
        "  return model"
      ],
      "execution_count": null,
      "outputs": []
    },
    {
      "cell_type": "code",
      "metadata": {
        "id": "k6VkU7QL3YxJ"
      },
      "source": [
        "white_model = createModel()\n",
        "black_model = createModel()\n",
        "asian_model = createModel()\n",
        "indian_model = createModel()"
      ],
      "execution_count": null,
      "outputs": []
    },
    {
      "cell_type": "code",
      "metadata": {
        "colab": {
          "base_uri": "https://localhost:8080/"
        },
        "id": "MmFqbL2QZHft",
        "outputId": "4ad86e02-05c4-4b67-a4c3-0a75d32c5071"
      },
      "source": [
        "history_white = white_model.fit(white_images_2, white_genders_2, epochs = 50, batch_size = 60)\n",
        "history_black = black_model.fit(black_images, black_genders, epochs = 50, batch_size = 60)\n",
        "history_asian = asian_model.fit(asian_images_2, asian_genders_2, epochs = 50, batch_size = 60)\n",
        "history_indian = indian_model.fit(indian_images_2, indian_genders_2, epochs = 50, batch_size = 60)"
      ],
      "execution_count": null,
      "outputs": [
        {
          "output_type": "execute_result",
          "data": {
            "text/plain": [
              "4626"
            ]
          },
          "metadata": {
            "tags": []
          },
          "execution_count": 96
        }
      ]
    },
    {
      "cell_type": "code",
      "metadata": {
        "id": "IB0-WHcL-Q-y"
      },
      "source": [
        "w_p_w = (white_model.predict(white_images_2) > 0.5).astype(\"int32\")\n",
        "w_p_b = (white_model.predict(black_images) > 0.5).astype(\"int32\")\n",
        "w_p_a = (white_model.predict(asian_images_2) > 0.5).astype(\"int32\")\n",
        "w_p_i = (white_model.predict(indian_images_2) > 0.5).astype(\"int32\")\n",
        "\n",
        "w = get_accuracy(w_p_w, white_genders_2)\n",
        "b = get_accuracy(w_p_b, black_genders)\n",
        "a = get_accuracy(w_p_a, asian_genders_2)\n",
        "i = get_accuracy(w_p_i, indian_genders_2)\n",
        "fig = plt.figure()\n",
        "labs = ['white', 'black', 'asian', 'indian']\n",
        "accuracies = [w,b,a,i]\n",
        "plt.bar(labs,accuracies)\n",
        "plt.ylabel('accuracies')\n",
        "plt.title('Prediction Accuracies of Model trained only on white faces')\n",
        "plt.show()"
      ],
      "execution_count": null,
      "outputs": []
    },
    {
      "cell_type": "code",
      "metadata": {
        "id": "cMlhC16J-RZ8"
      },
      "source": [
        "b_p_w = (black_model.predict(white_images_2) > 0.5).astype(\"int32\")\n",
        "b_p_b = (black_model.predict(black_images) > 0.5).astype(\"int32\")\n",
        "b_p_a = (black_model.predict(asian_images_2) > 0.5).astype(\"int32\")\n",
        "b_p_i = (black_model.predict(indian_images_2) > 0.5).astype(\"int32\")\n",
        "\n",
        "w = get_accuracy(b_p_w, white_genders_2)\n",
        "b = get_accuracy(b_p_b, black_genders)\n",
        "a = get_accuracy(b_p_a, asian_genders_2)\n",
        "i = get_accuracy(b_p_i, indian_genders_2)\n",
        "fig = plt.figure()\n",
        "labs = ['white', 'black', 'asian', 'indian']\n",
        "accuracies = [w,b,a,i]\n",
        "plt.bar(labs,accuracies)\n",
        "plt.ylabel('accuracies')\n",
        "plt.title('Prediction Accuracies of Model trained only on Black faces')\n",
        "plt.show()"
      ],
      "execution_count": null,
      "outputs": []
    },
    {
      "cell_type": "code",
      "metadata": {
        "id": "yRdW9JkV-Rvc"
      },
      "source": [
        "a_p_w = (asian_model.predict(white_images_2) > 0.5).astype(\"int32\")\n",
        "a_p_b = (asian_model.predict(black_images) > 0.5).astype(\"int32\")\n",
        "a_p_a = (asian_model.predict(asian_images_2) > 0.5).astype(\"int32\")\n",
        "a_p_i = (asian_model.predict(indian_images_2) > 0.5).astype(\"int32\")\n",
        "\n",
        "w = get_accuracy(a_p_w, white_genders_2)\n",
        "b = get_accuracy(a_p_b, black_genders)\n",
        "a = get_accuracy(a_p_a, asian_genders_2)\n",
        "i = get_accuracy(a_p_i, indian_genders_2)\n",
        "fig = plt.figure()\n",
        "labs = ['white', 'black', 'asian', 'indian']\n",
        "accuracies = [w,b,a,i]\n",
        "plt.bar(labs,accuracies)\n",
        "plt.ylabel('accuracies')\n",
        "plt.title('Prediction Accuracies of Model trained only on Asian faces')\n",
        "plt.show()"
      ],
      "execution_count": null,
      "outputs": []
    },
    {
      "cell_type": "code",
      "metadata": {
        "id": "2tD3jdrE-SOm"
      },
      "source": [
        "i_p_w = (indian_model.predict(white_images_2) > 0.5).astype(\"int32\")\n",
        "i_p_b = (indian_model.predict(black_images) > 0.5).astype(\"int32\")\n",
        "i_p_a = (indian_model.predict(asian_images_2) > 0.5).astype(\"int32\")\n",
        "i_p_i = (indian_model.predict(indian_images_2) > 0.5).astype(\"int32\")\n",
        "\n",
        "w = get_accuracy(i_p_w, white_genders_2)\n",
        "b = get_accuracy(i_p_b, black_genders)\n",
        "a = get_accuracy(i_p_a, asian_genders_2)\n",
        "i = get_accuracy(i_p_i, indian_genders_2)\n",
        "fig = plt.figure()\n",
        "labs = ['white', 'black', 'asian', 'indian']\n",
        "accuracies = [w,b,a,i]\n",
        "plt.bar(labs,accuracies)\n",
        "plt.ylabel('accuracies')\n",
        "plt.title('Prediction Accuracies of Model trained only on Indian faces')\n",
        "plt.show()"
      ],
      "execution_count": null,
      "outputs": []
    }
  ]
}